{
 "cells": [
  {
   "cell_type": "code",
   "execution_count": 1,
   "metadata": {},
   "outputs": [],
   "source": [
    "import numpy as np \n",
    "import pandas as pd\n",
    "import re\n",
    "from scipy.sparse import csr_matrix, hstack\n",
    "import matplotlib.pyplot as plt\n",
    "import contractions \n",
    "\n",
    "from nltk.corpus import stopwords\n",
    "from nltk.tokenize import word_tokenize, TweetTokenizer\n",
    "\n",
    "from sklearn.model_selection import train_test_split, GridSearchCV\n",
    "from sklearn.feature_extraction.text import TfidfVectorizer\n",
    "from sklearn.naive_bayes import MultinomialNB\n",
    "from sklearn.linear_model import LogisticRegression\n",
    "from sklearn.svm import SVC\n",
    "from sklearn.metrics import accuracy_score, f1_score"
   ]
  },
  {
   "cell_type": "code",
   "execution_count": 2,
   "metadata": {},
   "outputs": [
    {
     "name": "stdout",
     "output_type": "stream",
     "text": [
      "length      7613\n",
      "id             0\n",
      "keyword       61\n",
      "location    2533\n",
      "text           0\n",
      "target         0\n",
      "dtype: int64\n"
     ]
    },
    {
     "data": {
      "text/html": [
       "<div>\n",
       "<style scoped>\n",
       "    .dataframe tbody tr th:only-of-type {\n",
       "        vertical-align: middle;\n",
       "    }\n",
       "\n",
       "    .dataframe tbody tr th {\n",
       "        vertical-align: top;\n",
       "    }\n",
       "\n",
       "    .dataframe thead th {\n",
       "        text-align: right;\n",
       "    }\n",
       "</style>\n",
       "<table border=\"1\" class=\"dataframe\">\n",
       "  <thead>\n",
       "    <tr style=\"text-align: right;\">\n",
       "      <th></th>\n",
       "      <th>id</th>\n",
       "      <th>keyword</th>\n",
       "      <th>location</th>\n",
       "      <th>text</th>\n",
       "      <th>target</th>\n",
       "    </tr>\n",
       "  </thead>\n",
       "  <tbody>\n",
       "    <tr>\n",
       "      <th>0</th>\n",
       "      <td>1</td>\n",
       "      <td>NaN</td>\n",
       "      <td>NaN</td>\n",
       "      <td>Our Deeds are the Reason of this #earthquake M...</td>\n",
       "      <td>1</td>\n",
       "    </tr>\n",
       "    <tr>\n",
       "      <th>1</th>\n",
       "      <td>4</td>\n",
       "      <td>NaN</td>\n",
       "      <td>NaN</td>\n",
       "      <td>Forest fire near La Ronge Sask. Canada</td>\n",
       "      <td>1</td>\n",
       "    </tr>\n",
       "    <tr>\n",
       "      <th>2</th>\n",
       "      <td>5</td>\n",
       "      <td>NaN</td>\n",
       "      <td>NaN</td>\n",
       "      <td>All residents asked to 'shelter in place' are ...</td>\n",
       "      <td>1</td>\n",
       "    </tr>\n",
       "    <tr>\n",
       "      <th>3</th>\n",
       "      <td>6</td>\n",
       "      <td>NaN</td>\n",
       "      <td>NaN</td>\n",
       "      <td>13,000 people receive #wildfires evacuation or...</td>\n",
       "      <td>1</td>\n",
       "    </tr>\n",
       "    <tr>\n",
       "      <th>4</th>\n",
       "      <td>7</td>\n",
       "      <td>NaN</td>\n",
       "      <td>NaN</td>\n",
       "      <td>Just got sent this photo from Ruby #Alaska as ...</td>\n",
       "      <td>1</td>\n",
       "    </tr>\n",
       "  </tbody>\n",
       "</table>\n",
       "</div>"
      ],
      "text/plain": [
       "   id keyword location                                               text  \\\n",
       "0   1     NaN      NaN  Our Deeds are the Reason of this #earthquake M...   \n",
       "1   4     NaN      NaN             Forest fire near La Ronge Sask. Canada   \n",
       "2   5     NaN      NaN  All residents asked to 'shelter in place' are ...   \n",
       "3   6     NaN      NaN  13,000 people receive #wildfires evacuation or...   \n",
       "4   7     NaN      NaN  Just got sent this photo from Ruby #Alaska as ...   \n",
       "\n",
       "   target  \n",
       "0       1  \n",
       "1       1  \n",
       "2       1  \n",
       "3       1  \n",
       "4       1  "
      ]
     },
     "execution_count": 2,
     "metadata": {},
     "output_type": "execute_result"
    }
   ],
   "source": [
    "train = pd.read_csv('train.csv')\n",
    "\n",
    "print(f'length {len(train): 9}')\n",
    "print(train.isnull().sum())\n",
    "train.head()"
   ]
  },
  {
   "cell_type": "code",
   "execution_count": 3,
   "metadata": {},
   "outputs": [
    {
     "name": "stdout",
     "output_type": "stream",
     "text": [
      "length      3263\n",
      "id             0\n",
      "keyword       26\n",
      "location    1105\n",
      "text           0\n",
      "dtype: int64\n"
     ]
    },
    {
     "data": {
      "text/html": [
       "<div>\n",
       "<style scoped>\n",
       "    .dataframe tbody tr th:only-of-type {\n",
       "        vertical-align: middle;\n",
       "    }\n",
       "\n",
       "    .dataframe tbody tr th {\n",
       "        vertical-align: top;\n",
       "    }\n",
       "\n",
       "    .dataframe thead th {\n",
       "        text-align: right;\n",
       "    }\n",
       "</style>\n",
       "<table border=\"1\" class=\"dataframe\">\n",
       "  <thead>\n",
       "    <tr style=\"text-align: right;\">\n",
       "      <th></th>\n",
       "      <th>id</th>\n",
       "      <th>keyword</th>\n",
       "      <th>location</th>\n",
       "      <th>text</th>\n",
       "    </tr>\n",
       "  </thead>\n",
       "  <tbody>\n",
       "    <tr>\n",
       "      <th>0</th>\n",
       "      <td>0</td>\n",
       "      <td>NaN</td>\n",
       "      <td>NaN</td>\n",
       "      <td>Just happened a terrible car crash</td>\n",
       "    </tr>\n",
       "    <tr>\n",
       "      <th>1</th>\n",
       "      <td>2</td>\n",
       "      <td>NaN</td>\n",
       "      <td>NaN</td>\n",
       "      <td>Heard about #earthquake is different cities, s...</td>\n",
       "    </tr>\n",
       "    <tr>\n",
       "      <th>2</th>\n",
       "      <td>3</td>\n",
       "      <td>NaN</td>\n",
       "      <td>NaN</td>\n",
       "      <td>there is a forest fire at spot pond, geese are...</td>\n",
       "    </tr>\n",
       "    <tr>\n",
       "      <th>3</th>\n",
       "      <td>9</td>\n",
       "      <td>NaN</td>\n",
       "      <td>NaN</td>\n",
       "      <td>Apocalypse lighting. #Spokane #wildfires</td>\n",
       "    </tr>\n",
       "    <tr>\n",
       "      <th>4</th>\n",
       "      <td>11</td>\n",
       "      <td>NaN</td>\n",
       "      <td>NaN</td>\n",
       "      <td>Typhoon Soudelor kills 28 in China and Taiwan</td>\n",
       "    </tr>\n",
       "  </tbody>\n",
       "</table>\n",
       "</div>"
      ],
      "text/plain": [
       "   id keyword location                                               text\n",
       "0   0     NaN      NaN                 Just happened a terrible car crash\n",
       "1   2     NaN      NaN  Heard about #earthquake is different cities, s...\n",
       "2   3     NaN      NaN  there is a forest fire at spot pond, geese are...\n",
       "3   9     NaN      NaN           Apocalypse lighting. #Spokane #wildfires\n",
       "4  11     NaN      NaN      Typhoon Soudelor kills 28 in China and Taiwan"
      ]
     },
     "execution_count": 3,
     "metadata": {},
     "output_type": "execute_result"
    }
   ],
   "source": [
    "test = pd.read_csv('test.csv')\n",
    "\n",
    "print(f'length {len(test): 9}')\n",
    "print(test.isnull().sum())\n",
    "test.head()"
   ]
  },
  {
   "cell_type": "markdown",
   "metadata": {},
   "source": [
    "## Data Cleaning & Feature Engineering"
   ]
  },
  {
   "cell_type": "code",
   "execution_count": 4,
   "metadata": {},
   "outputs": [],
   "source": [
    "train['text_clean'] = train['text']\n",
    "test['text_clean'] = test['text']                              "
   ]
  },
  {
   "cell_type": "code",
   "execution_count": 5,
   "metadata": {},
   "outputs": [],
   "source": [
    "# cleaning: lowercase\n",
    "train['text_clean'] = train['text_clean'].apply(lambda x: x.lower())\n",
    "test['text_clean'] = test['text_clean'].apply(lambda x: x.lower())\n",
    "\n",
    "# cleaning: expand contractions\n",
    "train['text_clean'] = train['text_clean'].apply(lambda x: contractions.fix(x))\n",
    "test['text_clean'] = test['text_clean'].apply(lambda x: contractions.fix(x))\n",
    "\n",
    "# cleaning: remove accents and special characters\n",
    "train['text_clean'] = (train['text_clean']\n",
    "                       .str.normalize('NFKD')\n",
    "                       .str.encode('ascii', errors='ignore')\n",
    "                       .str.decode('utf-8'))\n",
    "test['text_clean'] = (test['text_clean']\n",
    "                      .str.normalize('NFKD')\n",
    "                      .str.encode('ascii', errors='ignore')\n",
    "                      .str.decode('utf-8'))\n",
    "\n",
    "# cleaning: remove URLS\n",
    "train['text_clean'] = train['text_clean'].apply(lambda x: re.sub(r'https?:\\/\\/t.co\\/[\\w]+', '', x))\n",
    "test['text_clean'] = test['text_clean'].apply(lambda x: re.sub(r'https?:\\/\\/t.co\\/[\\w]+', '', x))\n",
    "\n",
    "# cleaning: remove digits\n",
    "train['text_clean'] = train['text_clean'].apply(lambda x: re.sub(r'[\\d+,*\\d+]', '', x))\n",
    "test['text_clean'] = test['text_clean'].apply(lambda x: re.sub(r'[\\d+,*\\d+]', '', x))\n",
    "\n",
    "# cleaning: remove stopwords\n",
    "stop = stopwords.words('english')\n",
    "train['text_clean'] = train['text_clean'].apply(lambda x: ' '.join(\n",
    "    [word for word in x.split() if word not in stop]))\n",
    "test['text_clean'] = test['text_clean'].apply(lambda x: ' '.join(\n",
    "    [word for word in x.split() if word not in stop]))  "
   ]
  },
  {
   "cell_type": "code",
   "execution_count": 6,
   "metadata": {},
   "outputs": [],
   "source": [
    "## Initially, the location was used as a feature. However, this adversely\n",
    "## affected the model, which is why it is excluded.\n",
    "\n",
    "# import pycountry\n",
    "# from sklearn.preprocessing import LabelEncoder\n",
    "#\n",
    "# country_list = [country.name for country in pycountry.countries]\n",
    "# sub_country_list = [subcountry.name for subcountry in pycountry.subdivisions]\n",
    "# country_list.extend(sub_country_list)\n",
    "\n",
    "# country_list2 = '|'.join(country_list)\n",
    "\n",
    "# loc_list_train = []\n",
    "# for entry in train['text_clean']:\n",
    "#     match =  re.search(country_list2, entry)\n",
    "#     if match:\n",
    "#         loc_list_train.append(match.group())\n",
    "#     else:\n",
    "#         loc_list_train.append('Other')\n",
    "        \n",
    "# loc_list_test = []\n",
    "# for entry in test['text_clean']:\n",
    "#     match =  re.search(country_list2, entry)\n",
    "#     if match:\n",
    "#         loc_list_test.append(match.group())\n",
    "#     else:\n",
    "#         loc_list_test.append('Other')\n",
    "        \n",
    "# train['location_extract'] = loc_list_train\n",
    "# test['location_extract'] = loc_list_test\n",
    "\n",
    "# train['location_final'] = train['location'].combine_first(train['location_extract'])\n",
    "# train['location_final'] = (train['location_final']\n",
    "#                            .apply(lambda x: x.split(',')[0])\n",
    "#                            .apply(lambda x: x.lower())\n",
    "#                            .apply(lambda x: re.sub(r'[_\\W]', ' ', x)))\n",
    "\n",
    "# test['location_final'] = test['location'].combine_first(test['location_extract'])\n",
    "# test['location_final'] = (test['location_final']\n",
    "#                           .apply(lambda x: x.split(',')[0])\n",
    "#                           .apply(lambda x: x.lower())\n",
    "#                           .apply(lambda x: re.sub(r'[_\\W]', ' ', x)))\n",
    "\n",
    "# train['location_n'] = LabelEncoder().fit_transform(train.loc[:,'location_final'])\n",
    "# test['location_n'] = LabelEncoder().fit_transform(test.loc[:,'location_final'])"
   ]
  },
  {
   "cell_type": "code",
   "execution_count": 7,
   "metadata": {},
   "outputs": [],
   "source": [
    "# tweet tokenizer\n",
    "train['tweet_tokens'] = train['text_clean'].apply(\n",
    "    lambda x: TweetTokenizer().tokenize(x))\n",
    "test['tweet_tokens'] = test['text_clean'].apply(\n",
    "    lambda x: TweetTokenizer().tokenize(x))"
   ]
  },
  {
   "cell_type": "code",
   "execution_count": 8,
   "metadata": {},
   "outputs": [],
   "source": [
    "# cleaning: remove mentions\n",
    "train['text_clean'] = train['text_clean'].apply(lambda x: re.sub(r'@[\\w]+', '', x))\n",
    "test['text_clean'] = test['text_clean'].apply(lambda x: re.sub(r'@[\\w]+', '', x))\n",
    "\n",
    "# cleaning: remove punctuation\n",
    "train['text_clean'] = train['text_clean'].apply(lambda x: re.sub(r'[_\\W]', ' ', x))\n",
    "test['text_clean'] = test['text_clean'].apply(lambda x: re.sub(r'[_\\W]', ' ', x))\n",
    "\n",
    "# cleaning: create tokens\n",
    "train['text_tokens'] = train['text_clean'].apply(lambda x: word_tokenize(x))\n",
    "test['text_tokens'] = test['text_clean'].apply(lambda x: word_tokenize(x))\n",
    "\n",
    "# remove unicode characters\n",
    "train['text_clean'] = train['text_clean'].apply(lambda x: re.sub(r'[^\\x00-\\x7F]+', '', x))\n",
    "test['text_clean'] = test['text_clean'].apply(lambda x: re.sub(r'[^\\x00-\\x7F]+', '', x))\n",
    "\n",
    "# remove extra spaces\n",
    "train['text_clean'] = train['text_clean'].apply(lambda x: re.sub(r'\\s+', ' ', x))\n",
    "test['text_clean'] = test['text_clean'].apply(lambda x: re.sub(r'\\s+', ' ', x))\n",
    "train['text_clean'] = train['text_clean'].str.strip()\n",
    "test['text_clean'] = test['text_clean'].str.strip()"
   ]
  },
  {
   "cell_type": "code",
   "execution_count": 9,
   "metadata": {},
   "outputs": [],
   "source": [
    "# spelling correction: word length\n",
    "def reduce(text):\n",
    "    pattern = re.compile(r'(.)\\1{3,}')\n",
    "    return pattern.sub(r'\\1\\1', text)\n",
    "\n",
    "train['text_clean'] = train['text_clean'].apply(lambda x: reduce(x))\n",
    "test['text_clean'] = test['text_clean'].apply(lambda x: reduce(x))"
   ]
  },
  {
   "cell_type": "code",
   "execution_count": 10,
   "metadata": {},
   "outputs": [],
   "source": [
    "train['ch_n'] = train['text'].str.len()\n",
    "test['ch_n'] = test['text'].str.len()\n",
    "\n",
    "train['digit_n'] = train['text'].apply(lambda row: len(re.findall(r'(\\d)', row)))\n",
    "test['digit_n'] = test['text'].apply(lambda row: len(re.findall(r'(\\d)', row)))\n",
    "\n",
    "train['alpha_n'] = train['text'].apply(lambda row: len(re.findall(r'(\\w)', row)))\n",
    "test['alpha_n'] = test['text'].apply(lambda row: len(re.findall(r'(\\w)', row)))\n",
    "\n",
    "train['non_alpha_n'] = train['text'].apply(lambda row: len(re.findall(r'(\\W)', row)))\n",
    "test['non_alpha_n'] = test['text'].apply(lambda row: len(re.findall(r'(\\W)', row)))\n",
    "\n",
    "train['word_n'] = train['text'].apply(lambda x: len(str(x).split()))\n",
    "test['word_n'] = test['text'].apply(lambda x: len(str(x).split()))\n",
    "\n",
    "train['hashtag_n'] = train['text'].apply(lambda row: len(re.findall(r'#(\\w)', row)))\n",
    "test['hashtag_n'] = test['text'].apply(lambda row: len(re.findall(r'#(\\w)', row)))\n",
    "\n",
    "train['mention_n'] = train['text'].apply(lambda row: len(re.findall(r'@(\\w)', row)))\n",
    "test['mention_n'] = test['text'].apply(lambda row: len(re.findall(r'@(\\w)', row)))\n",
    "\n",
    "train['url_n'] = train['text'].apply(lambda row: len(re.findall(r'(http)', row)))\n",
    "test['url_n'] = test['text'].apply(lambda row: len(re.findall(r'(http)', row)))\n",
    "\n",
    "train['clean_ch_n'] = train['text_clean'].str.len()\n",
    "test['clean_ch_n'] = test['text_clean'].str.len()\n",
    "\n",
    "train['word_tweet_n'] = train['tweet_tokens'].str.len()\n",
    "test['word_tweet_n'] = test['tweet_tokens'].str.len()\n",
    "\n",
    "train['word_token_n'] = train['text_tokens'].str.len()\n",
    "test['word_token_n'] = test['text_tokens'].str.len()"
   ]
  },
  {
   "cell_type": "code",
   "execution_count": 11,
   "metadata": {},
   "outputs": [
    {
     "data": {
      "text/html": [
       "<div>\n",
       "<style scoped>\n",
       "    .dataframe tbody tr th:only-of-type {\n",
       "        vertical-align: middle;\n",
       "    }\n",
       "\n",
       "    .dataframe tbody tr th {\n",
       "        vertical-align: top;\n",
       "    }\n",
       "\n",
       "    .dataframe thead th {\n",
       "        text-align: right;\n",
       "    }\n",
       "</style>\n",
       "<table border=\"1\" class=\"dataframe\">\n",
       "  <thead>\n",
       "    <tr style=\"text-align: right;\">\n",
       "      <th></th>\n",
       "      <th>id</th>\n",
       "      <th>keyword</th>\n",
       "      <th>location</th>\n",
       "      <th>text</th>\n",
       "      <th>target</th>\n",
       "      <th>text_clean</th>\n",
       "      <th>tweet_tokens</th>\n",
       "      <th>text_tokens</th>\n",
       "      <th>ch_n</th>\n",
       "      <th>digit_n</th>\n",
       "      <th>alpha_n</th>\n",
       "      <th>non_alpha_n</th>\n",
       "      <th>word_n</th>\n",
       "      <th>hashtag_n</th>\n",
       "      <th>mention_n</th>\n",
       "      <th>url_n</th>\n",
       "      <th>clean_ch_n</th>\n",
       "      <th>word_tweet_n</th>\n",
       "      <th>word_token_n</th>\n",
       "    </tr>\n",
       "  </thead>\n",
       "  <tbody>\n",
       "    <tr>\n",
       "      <th>0</th>\n",
       "      <td>1</td>\n",
       "      <td>NaN</td>\n",
       "      <td>NaN</td>\n",
       "      <td>Our Deeds are the Reason of this #earthquake M...</td>\n",
       "      <td>1</td>\n",
       "      <td>deeds reason earthquake may allah forgive us</td>\n",
       "      <td>[deeds, reason, #earthquake, may, allah, forgi...</td>\n",
       "      <td>[deeds, reason, earthquake, may, allah, forgiv...</td>\n",
       "      <td>69</td>\n",
       "      <td>0</td>\n",
       "      <td>56</td>\n",
       "      <td>13</td>\n",
       "      <td>13</td>\n",
       "      <td>1</td>\n",
       "      <td>0</td>\n",
       "      <td>0</td>\n",
       "      <td>44</td>\n",
       "      <td>7</td>\n",
       "      <td>7</td>\n",
       "    </tr>\n",
       "    <tr>\n",
       "      <th>1</th>\n",
       "      <td>4</td>\n",
       "      <td>NaN</td>\n",
       "      <td>NaN</td>\n",
       "      <td>Forest fire near La Ronge Sask. Canada</td>\n",
       "      <td>1</td>\n",
       "      <td>forest fire near la ronge sask canada</td>\n",
       "      <td>[forest, fire, near, la, ronge, sask, ., canada]</td>\n",
       "      <td>[forest, fire, near, la, ronge, sask, canada]</td>\n",
       "      <td>38</td>\n",
       "      <td>0</td>\n",
       "      <td>31</td>\n",
       "      <td>7</td>\n",
       "      <td>7</td>\n",
       "      <td>0</td>\n",
       "      <td>0</td>\n",
       "      <td>0</td>\n",
       "      <td>37</td>\n",
       "      <td>8</td>\n",
       "      <td>7</td>\n",
       "    </tr>\n",
       "    <tr>\n",
       "      <th>2</th>\n",
       "      <td>5</td>\n",
       "      <td>NaN</td>\n",
       "      <td>NaN</td>\n",
       "      <td>All residents asked to 'shelter in place' are ...</td>\n",
       "      <td>1</td>\n",
       "      <td>residents asked shelter place notified officer...</td>\n",
       "      <td>[residents, asked, ', shelter, place, ', notif...</td>\n",
       "      <td>[residents, asked, shelter, place, notified, o...</td>\n",
       "      <td>133</td>\n",
       "      <td>0</td>\n",
       "      <td>109</td>\n",
       "      <td>24</td>\n",
       "      <td>22</td>\n",
       "      <td>0</td>\n",
       "      <td>0</td>\n",
       "      <td>0</td>\n",
       "      <td>88</td>\n",
       "      <td>14</td>\n",
       "      <td>11</td>\n",
       "    </tr>\n",
       "    <tr>\n",
       "      <th>3</th>\n",
       "      <td>6</td>\n",
       "      <td>NaN</td>\n",
       "      <td>NaN</td>\n",
       "      <td>13,000 people receive #wildfires evacuation or...</td>\n",
       "      <td>1</td>\n",
       "      <td>people receive wildfires evacuation orders cal...</td>\n",
       "      <td>[people, receive, #wildfires, evacuation, orde...</td>\n",
       "      <td>[people, receive, wildfires, evacuation, order...</td>\n",
       "      <td>65</td>\n",
       "      <td>5</td>\n",
       "      <td>55</td>\n",
       "      <td>10</td>\n",
       "      <td>8</td>\n",
       "      <td>1</td>\n",
       "      <td>0</td>\n",
       "      <td>0</td>\n",
       "      <td>53</td>\n",
       "      <td>6</td>\n",
       "      <td>6</td>\n",
       "    </tr>\n",
       "    <tr>\n",
       "      <th>4</th>\n",
       "      <td>7</td>\n",
       "      <td>NaN</td>\n",
       "      <td>NaN</td>\n",
       "      <td>Just got sent this photo from Ruby #Alaska as ...</td>\n",
       "      <td>1</td>\n",
       "      <td>got sent photo ruby alaska smoke wildfires pou...</td>\n",
       "      <td>[got, sent, photo, ruby, #alaska, smoke, #wild...</td>\n",
       "      <td>[got, sent, photo, ruby, alaska, smoke, wildfi...</td>\n",
       "      <td>88</td>\n",
       "      <td>0</td>\n",
       "      <td>70</td>\n",
       "      <td>18</td>\n",
       "      <td>16</td>\n",
       "      <td>2</td>\n",
       "      <td>0</td>\n",
       "      <td>0</td>\n",
       "      <td>55</td>\n",
       "      <td>9</td>\n",
       "      <td>9</td>\n",
       "    </tr>\n",
       "  </tbody>\n",
       "</table>\n",
       "</div>"
      ],
      "text/plain": [
       "   id keyword location                                               text  \\\n",
       "0   1     NaN      NaN  Our Deeds are the Reason of this #earthquake M...   \n",
       "1   4     NaN      NaN             Forest fire near La Ronge Sask. Canada   \n",
       "2   5     NaN      NaN  All residents asked to 'shelter in place' are ...   \n",
       "3   6     NaN      NaN  13,000 people receive #wildfires evacuation or...   \n",
       "4   7     NaN      NaN  Just got sent this photo from Ruby #Alaska as ...   \n",
       "\n",
       "   target                                         text_clean  \\\n",
       "0       1       deeds reason earthquake may allah forgive us   \n",
       "1       1              forest fire near la ronge sask canada   \n",
       "2       1  residents asked shelter place notified officer...   \n",
       "3       1  people receive wildfires evacuation orders cal...   \n",
       "4       1  got sent photo ruby alaska smoke wildfires pou...   \n",
       "\n",
       "                                        tweet_tokens  \\\n",
       "0  [deeds, reason, #earthquake, may, allah, forgi...   \n",
       "1   [forest, fire, near, la, ronge, sask, ., canada]   \n",
       "2  [residents, asked, ', shelter, place, ', notif...   \n",
       "3  [people, receive, #wildfires, evacuation, orde...   \n",
       "4  [got, sent, photo, ruby, #alaska, smoke, #wild...   \n",
       "\n",
       "                                         text_tokens  ch_n  digit_n  alpha_n  \\\n",
       "0  [deeds, reason, earthquake, may, allah, forgiv...    69        0       56   \n",
       "1      [forest, fire, near, la, ronge, sask, canada]    38        0       31   \n",
       "2  [residents, asked, shelter, place, notified, o...   133        0      109   \n",
       "3  [people, receive, wildfires, evacuation, order...    65        5       55   \n",
       "4  [got, sent, photo, ruby, alaska, smoke, wildfi...    88        0       70   \n",
       "\n",
       "   non_alpha_n  word_n  hashtag_n  mention_n  url_n  clean_ch_n  word_tweet_n  \\\n",
       "0           13      13          1          0      0          44             7   \n",
       "1            7       7          0          0      0          37             8   \n",
       "2           24      22          0          0      0          88            14   \n",
       "3           10       8          1          0      0          53             6   \n",
       "4           18      16          2          0      0          55             9   \n",
       "\n",
       "   word_token_n  \n",
       "0             7  \n",
       "1             7  \n",
       "2            11  \n",
       "3             6  \n",
       "4             9  "
      ]
     },
     "execution_count": 11,
     "metadata": {},
     "output_type": "execute_result"
    }
   ],
   "source": [
    "train.head()"
   ]
  },
  {
   "cell_type": "code",
   "execution_count": 12,
   "metadata": {},
   "outputs": [
    {
     "data": {
      "text/html": [
       "<div>\n",
       "<style scoped>\n",
       "    .dataframe tbody tr th:only-of-type {\n",
       "        vertical-align: middle;\n",
       "    }\n",
       "\n",
       "    .dataframe tbody tr th {\n",
       "        vertical-align: top;\n",
       "    }\n",
       "\n",
       "    .dataframe thead th {\n",
       "        text-align: right;\n",
       "    }\n",
       "</style>\n",
       "<table border=\"1\" class=\"dataframe\">\n",
       "  <thead>\n",
       "    <tr style=\"text-align: right;\">\n",
       "      <th></th>\n",
       "      <th>id</th>\n",
       "      <th>keyword</th>\n",
       "      <th>location</th>\n",
       "      <th>text</th>\n",
       "      <th>target</th>\n",
       "      <th>text_clean</th>\n",
       "      <th>tweet_tokens</th>\n",
       "      <th>text_tokens</th>\n",
       "      <th>ch_n</th>\n",
       "      <th>digit_n</th>\n",
       "      <th>alpha_n</th>\n",
       "      <th>non_alpha_n</th>\n",
       "      <th>word_n</th>\n",
       "      <th>hashtag_n</th>\n",
       "      <th>mention_n</th>\n",
       "      <th>url_n</th>\n",
       "      <th>clean_ch_n</th>\n",
       "      <th>word_tweet_n</th>\n",
       "      <th>word_token_n</th>\n",
       "    </tr>\n",
       "  </thead>\n",
       "  <tbody>\n",
       "    <tr>\n",
       "      <th>7608</th>\n",
       "      <td>10869</td>\n",
       "      <td>NaN</td>\n",
       "      <td>NaN</td>\n",
       "      <td>Two giant cranes holding a bridge collapse int...</td>\n",
       "      <td>1</td>\n",
       "      <td>two giant cranes holding bridge collapse nearb...</td>\n",
       "      <td>[two, giant, cranes, holding, bridge, collapse...</td>\n",
       "      <td>[two, giant, cranes, holding, bridge, collapse...</td>\n",
       "      <td>83</td>\n",
       "      <td>1</td>\n",
       "      <td>68</td>\n",
       "      <td>15</td>\n",
       "      <td>11</td>\n",
       "      <td>0</td>\n",
       "      <td>0</td>\n",
       "      <td>1</td>\n",
       "      <td>53</td>\n",
       "      <td>8</td>\n",
       "      <td>8</td>\n",
       "    </tr>\n",
       "    <tr>\n",
       "      <th>7609</th>\n",
       "      <td>10870</td>\n",
       "      <td>NaN</td>\n",
       "      <td>NaN</td>\n",
       "      <td>@aria_ahrary @TheTawniest The out of control w...</td>\n",
       "      <td>1</td>\n",
       "      <td>control wild fires california even northern pa...</td>\n",
       "      <td>[@aria_ahrary, @thetawniest, control, wild, fi...</td>\n",
       "      <td>[control, wild, fires, california, even, north...</td>\n",
       "      <td>125</td>\n",
       "      <td>0</td>\n",
       "      <td>102</td>\n",
       "      <td>23</td>\n",
       "      <td>20</td>\n",
       "      <td>0</td>\n",
       "      <td>2</td>\n",
       "      <td>0</td>\n",
       "      <td>64</td>\n",
       "      <td>13</td>\n",
       "      <td>9</td>\n",
       "    </tr>\n",
       "    <tr>\n",
       "      <th>7610</th>\n",
       "      <td>10871</td>\n",
       "      <td>NaN</td>\n",
       "      <td>NaN</td>\n",
       "      <td>M1.94 [01:04 UTC]?5km S of Volcano Hawaii. htt...</td>\n",
       "      <td>1</td>\n",
       "      <td>m utc km volcano hawaii</td>\n",
       "      <td>[m, ., [:, utc, ], ?, km, volcano, hawaii, .]</td>\n",
       "      <td>[m, utc, km, volcano, hawaii]</td>\n",
       "      <td>65</td>\n",
       "      <td>9</td>\n",
       "      <td>47</td>\n",
       "      <td>18</td>\n",
       "      <td>8</td>\n",
       "      <td>0</td>\n",
       "      <td>0</td>\n",
       "      <td>1</td>\n",
       "      <td>23</td>\n",
       "      <td>10</td>\n",
       "      <td>5</td>\n",
       "    </tr>\n",
       "    <tr>\n",
       "      <th>7611</th>\n",
       "      <td>10872</td>\n",
       "      <td>NaN</td>\n",
       "      <td>NaN</td>\n",
       "      <td>Police investigating after an e-bike collided ...</td>\n",
       "      <td>1</td>\n",
       "      <td>police investigating e bike collided car littl...</td>\n",
       "      <td>[police, investigating, e-bike, collided, car,...</td>\n",
       "      <td>[police, investigating, e, bike, collided, car...</td>\n",
       "      <td>137</td>\n",
       "      <td>0</td>\n",
       "      <td>114</td>\n",
       "      <td>23</td>\n",
       "      <td>19</td>\n",
       "      <td>0</td>\n",
       "      <td>0</td>\n",
       "      <td>0</td>\n",
       "      <td>116</td>\n",
       "      <td>16</td>\n",
       "      <td>17</td>\n",
       "    </tr>\n",
       "    <tr>\n",
       "      <th>7612</th>\n",
       "      <td>10873</td>\n",
       "      <td>NaN</td>\n",
       "      <td>NaN</td>\n",
       "      <td>The Latest: More Homes Razed by Northern Calif...</td>\n",
       "      <td>1</td>\n",
       "      <td>latest homes razed northern california wildfir...</td>\n",
       "      <td>[latest, :, homes, razed, northern, california...</td>\n",
       "      <td>[latest, homes, razed, northern, california, w...</td>\n",
       "      <td>94</td>\n",
       "      <td>2</td>\n",
       "      <td>75</td>\n",
       "      <td>19</td>\n",
       "      <td>13</td>\n",
       "      <td>0</td>\n",
       "      <td>0</td>\n",
       "      <td>1</td>\n",
       "      <td>56</td>\n",
       "      <td>10</td>\n",
       "      <td>8</td>\n",
       "    </tr>\n",
       "  </tbody>\n",
       "</table>\n",
       "</div>"
      ],
      "text/plain": [
       "         id keyword location  \\\n",
       "7608  10869     NaN      NaN   \n",
       "7609  10870     NaN      NaN   \n",
       "7610  10871     NaN      NaN   \n",
       "7611  10872     NaN      NaN   \n",
       "7612  10873     NaN      NaN   \n",
       "\n",
       "                                                   text  target  \\\n",
       "7608  Two giant cranes holding a bridge collapse int...       1   \n",
       "7609  @aria_ahrary @TheTawniest The out of control w...       1   \n",
       "7610  M1.94 [01:04 UTC]?5km S of Volcano Hawaii. htt...       1   \n",
       "7611  Police investigating after an e-bike collided ...       1   \n",
       "7612  The Latest: More Homes Razed by Northern Calif...       1   \n",
       "\n",
       "                                             text_clean  \\\n",
       "7608  two giant cranes holding bridge collapse nearb...   \n",
       "7609  control wild fires california even northern pa...   \n",
       "7610                            m utc km volcano hawaii   \n",
       "7611  police investigating e bike collided car littl...   \n",
       "7612  latest homes razed northern california wildfir...   \n",
       "\n",
       "                                           tweet_tokens  \\\n",
       "7608  [two, giant, cranes, holding, bridge, collapse...   \n",
       "7609  [@aria_ahrary, @thetawniest, control, wild, fi...   \n",
       "7610      [m, ., [:, utc, ], ?, km, volcano, hawaii, .]   \n",
       "7611  [police, investigating, e-bike, collided, car,...   \n",
       "7612  [latest, :, homes, razed, northern, california...   \n",
       "\n",
       "                                            text_tokens  ch_n  digit_n  \\\n",
       "7608  [two, giant, cranes, holding, bridge, collapse...    83        1   \n",
       "7609  [control, wild, fires, california, even, north...   125        0   \n",
       "7610                      [m, utc, km, volcano, hawaii]    65        9   \n",
       "7611  [police, investigating, e, bike, collided, car...   137        0   \n",
       "7612  [latest, homes, razed, northern, california, w...    94        2   \n",
       "\n",
       "      alpha_n  non_alpha_n  word_n  hashtag_n  mention_n  url_n  clean_ch_n  \\\n",
       "7608       68           15      11          0          0      1          53   \n",
       "7609      102           23      20          0          2      0          64   \n",
       "7610       47           18       8          0          0      1          23   \n",
       "7611      114           23      19          0          0      0         116   \n",
       "7612       75           19      13          0          0      1          56   \n",
       "\n",
       "      word_tweet_n  word_token_n  \n",
       "7608             8             8  \n",
       "7609            13             9  \n",
       "7610            10             5  \n",
       "7611            16            17  \n",
       "7612            10             8  "
      ]
     },
     "execution_count": 12,
     "metadata": {},
     "output_type": "execute_result"
    }
   ],
   "source": [
    "train.tail()"
   ]
  },
  {
   "cell_type": "code",
   "execution_count": 13,
   "metadata": {},
   "outputs": [
    {
     "data": {
      "image/png": "[encoded data removed]",
      "text/plain": [
       "<Figure size 1008x1008 with 10 Axes>"
      ]
     },
     "metadata": {
      "needs_background": "light"
     },
     "output_type": "display_data"
    }
   ],
   "source": [
    "plt.figure(figsize=[14,14])\n",
    "\n",
    "ax1 = plt.subplot(4,3,1)\n",
    "ax1.hist(train[train['target'] == 0]['ch_n'], bins=15, label=\"Not Disaster\")\n",
    "ax1.hist(train[train['target'] == 1]['ch_n'], bins=15, label=\"Disaster\")\n",
    "ax1.legend()\n",
    "ax1.set_title('ch_n')\n",
    "ax1.set_ylabel('tweets')\n",
    "\n",
    "ax2 = plt.subplot(4,3,2)\n",
    "ax2.hist(train[train['target'] == 0]['digit_n'], bins=15, label=\"Not Disaster\")\n",
    "ax2.hist(train[train['target'] == 1]['digit_n'], bins=15, label=\"Disaster\")\n",
    "ax2.set_xlim([0, 15])\n",
    "ax2.legend()\n",
    "ax2.set_title('digit_n')\n",
    "\n",
    "ax3 = plt.subplot(4,3,3)\n",
    "ax3.hist(train[train['target'] == 0]['alpha_n'], bins=15, label=\"Not Disaster\")\n",
    "ax3.hist(train[train['target'] == 1]['alpha_n'], bins=15, label=\"Disaster\")\n",
    "ax3.legend()\n",
    "ax3.set_title('alpha_n')\n",
    "\n",
    "ax4 = plt.subplot(4,3,4)\n",
    "ax4.hist(train[train['target'] == 0]['non_alpha_n'], bins=15, label=\"Not Disaster\")\n",
    "ax4.hist(train[train['target'] == 1]['non_alpha_n'], bins=15, label=\"Disaster\")\n",
    "ax4.set_xlim([0, 50])\n",
    "ax4.legend()\n",
    "ax4.set_title('non_alpha_n')\n",
    "ax4.set_ylabel('tweets')\n",
    "\n",
    "ax5 = plt.subplot(4,3,5)\n",
    "ax5.hist(train[train['target'] == 0]['hashtag_n'], bins=10, label=\"Not Disaster\")\n",
    "ax5.hist(train[train['target'] == 1]['hashtag_n'], bins=10, label=\"Disaster\")\n",
    "ax5.set_xlim([0, 6])\n",
    "ax5.legend()\n",
    "ax5.set_title('hashtag_n')\n",
    "\n",
    "ax6 = plt.subplot(4,3,6)\n",
    "ax6.hist(train[train['target'] == 0]['mention_n'], bins=10, label=\"Not Disaster\")\n",
    "ax6.hist(train[train['target'] == 1]['mention_n'], bins=10, label=\"Disaster\")\n",
    "ax6.set_xlim([0, 6])\n",
    "ax6.legend()\n",
    "ax6.set_title('mention_n')\n",
    "\n",
    "ax7 = plt.subplot(4,3,7)\n",
    "ax7.hist(train[train['target'] == 0]['url_n'], bins=5, label=\"Not Disaster\")\n",
    "ax7.hist(train[train['target'] == 1]['url_n'], bins=5, label=\"Disaster\")\n",
    "ax7.legend()\n",
    "ax7.set_title('url_n')\n",
    "ax7.set_ylabel('tweets')\n",
    "\n",
    "ax8 = plt.subplot(4,3,8)\n",
    "ax8.hist(train[train['target'] == 0]['clean_ch_n'], bins=10, label=\"Not Disaster\")\n",
    "ax8.hist(train[train['target'] == 1]['clean_ch_n'], bins=10, label=\"Disaster\")\n",
    "ax8.legend()\n",
    "ax8.set_title('clean_ch_n')\n",
    "ax8.set_xlabel('count')\n",
    "\n",
    "ax9 = plt.subplot(4,3,9)\n",
    "ax9.hist(train[train['target'] == 0]['word_tweet_n'], bins=10, label=\"Not Disaster\")\n",
    "ax9.hist(train[train['target'] == 1]['word_tweet_n'], bins=10, label=\"Disaster\")\n",
    "ax9.set_xlim([0, 30])\n",
    "ax9.legend()\n",
    "ax9.set_title('word_tweet_n')\n",
    "ax9.set_xlabel('count')\n",
    "\n",
    "ax10 = plt.subplot(4,3,10)\n",
    "ax10.hist(train[train['target'] == 0]['word_token_n'], bins=10, label=\"Not Disaster\")\n",
    "ax10.hist(train[train['target'] == 1]['word_token_n'], bins=10, label=\"Disaster\")\n",
    "ax10.legend()\n",
    "ax10.set_title('word_token_n')\n",
    "ax10.set_xlabel('count')\n",
    "\n",
    "plt.tight_layout()\n",
    "plt.show()"
   ]
  },
  {
   "cell_type": "code",
   "execution_count": 14,
   "metadata": {},
   "outputs": [
    {
     "data": {
      "text/html": [
       "<div>\n",
       "<style scoped>\n",
       "    .dataframe tbody tr th:only-of-type {\n",
       "        vertical-align: middle;\n",
       "    }\n",
       "\n",
       "    .dataframe tbody tr th {\n",
       "        vertical-align: top;\n",
       "    }\n",
       "\n",
       "    .dataframe thead th {\n",
       "        text-align: right;\n",
       "    }\n",
       "</style>\n",
       "<table border=\"1\" class=\"dataframe\">\n",
       "  <thead>\n",
       "    <tr style=\"text-align: right;\">\n",
       "      <th></th>\n",
       "      <th>ch_n</th>\n",
       "      <th>digit_n</th>\n",
       "      <th>alpha_n</th>\n",
       "      <th>non_alpha_n</th>\n",
       "      <th>hashtag_n</th>\n",
       "      <th>mention_n</th>\n",
       "      <th>url_n</th>\n",
       "      <th>clean_ch_n</th>\n",
       "      <th>word_tweet_n</th>\n",
       "      <th>word_token_n</th>\n",
       "    </tr>\n",
       "    <tr>\n",
       "      <th>target</th>\n",
       "      <th></th>\n",
       "      <th></th>\n",
       "      <th></th>\n",
       "      <th></th>\n",
       "      <th></th>\n",
       "      <th></th>\n",
       "      <th></th>\n",
       "      <th></th>\n",
       "      <th></th>\n",
       "      <th></th>\n",
       "    </tr>\n",
       "  </thead>\n",
       "  <tbody>\n",
       "    <tr>\n",
       "      <th>0</th>\n",
       "      <td>95.706817</td>\n",
       "      <td>1.590511</td>\n",
       "      <td>75.559189</td>\n",
       "      <td>20.147628</td>\n",
       "      <td>0.388761</td>\n",
       "      <td>0.420313</td>\n",
       "      <td>0.507600</td>\n",
       "      <td>55.818747</td>\n",
       "      <td>10.812068</td>\n",
       "      <td>8.629894</td>\n",
       "    </tr>\n",
       "    <tr>\n",
       "      <th>1</th>\n",
       "      <td>108.113421</td>\n",
       "      <td>2.637420</td>\n",
       "      <td>86.210639</td>\n",
       "      <td>21.902782</td>\n",
       "      <td>0.501987</td>\n",
       "      <td>0.272088</td>\n",
       "      <td>0.769795</td>\n",
       "      <td>66.081015</td>\n",
       "      <td>11.723020</td>\n",
       "      <td>9.637420</td>\n",
       "    </tr>\n",
       "  </tbody>\n",
       "</table>\n",
       "</div>"
      ],
      "text/plain": [
       "              ch_n   digit_n    alpha_n  non_alpha_n  hashtag_n  mention_n  \\\n",
       "target                                                                       \n",
       "0        95.706817  1.590511  75.559189    20.147628   0.388761   0.420313   \n",
       "1       108.113421  2.637420  86.210639    21.902782   0.501987   0.272088   \n",
       "\n",
       "           url_n  clean_ch_n  word_tweet_n  word_token_n  \n",
       "target                                                    \n",
       "0       0.507600   55.818747     10.812068      8.629894  \n",
       "1       0.769795   66.081015     11.723020      9.637420  "
      ]
     },
     "execution_count": 14,
     "metadata": {},
     "output_type": "execute_result"
    }
   ],
   "source": [
    "feature_exploration = ['ch_n', 'digit_n', 'alpha_n', 'non_alpha_n', 'hashtag_n', \n",
    "                       'mention_n', 'url_n', 'clean_ch_n', 'word_tweet_n', \n",
    "                       'word_token_n', 'target']\n",
    "\n",
    "train[feature_exploration].groupby('target').mean()"
   ]
  },
  {
   "cell_type": "markdown",
   "metadata": {},
   "source": [
    "## Model Training"
   ]
  },
  {
   "cell_type": "code",
   "execution_count": 15,
   "metadata": {},
   "outputs": [],
   "source": [
    "features = ['ch_n', 'mention_n', 'url_n', 'word_tweet_n', 'text_clean']\n",
    "\n",
    "X_train, X_test, y_train, y_test = train_test_split(train[features], train['target'], test_size=0.25)"
   ]
  },
  {
   "cell_type": "code",
   "execution_count": 16,
   "metadata": {},
   "outputs": [],
   "source": [
    "def add_feature(X, feature_to_add):\n",
    "    '''\n",
    "    Returns sparse feature matrix with added feature.\n",
    "    feature_to_add can also be a list of features.\n",
    "    '''\n",
    "    return hstack([X, csr_matrix(feature_to_add).T], 'csr')"
   ]
  },
  {
   "cell_type": "code",
   "execution_count": 17,
   "metadata": {},
   "outputs": [],
   "source": [
    "vect = TfidfVectorizer(max_df=0.90, min_df=10, ngram_range=(1,3))\n",
    "vect.fit(X_train['text_clean'])\n",
    "\n",
    "X_train_vect = vect.transform(X_train['text_clean'])\n",
    "X_test_vect = vect.transform(X_test['text_clean'])\n",
    "\n",
    "features_vect = ['ch_n', 'mention_n', 'url_n', 'word_tweet_n']\n",
    "\n",
    "for feature in features_vect:\n",
    "    X_train_vect = add_feature(X_train_vect, X_train[feature])\n",
    "    X_test_vect = add_feature(X_test_vect, X_test[feature])"
   ]
  },
  {
   "cell_type": "markdown",
   "metadata": {},
   "source": [
    "### Naive Bayes Classifier"
   ]
  },
  {
   "cell_type": "code",
   "execution_count": 18,
   "metadata": {},
   "outputs": [
    {
     "name": "stdout",
     "output_type": "stream",
     "text": [
      "accuracy: 0.7878151260504201\n",
      "f1: 0.7288590604026846\n"
     ]
    }
   ],
   "source": [
    "model_bayes = MultinomialNB().fit(X_train_vect, y_train)\n",
    "predictions_bayes = model_bayes.predict(X_test_vect)\n",
    "\n",
    "print(f'accuracy: {accuracy_score(y_test, predictions_bayes)}')\n",
    "print(f'f1: {f1_score(y_test, predictions_bayes)}')"
   ]
  },
  {
   "cell_type": "code",
   "execution_count": 19,
   "metadata": {},
   "outputs": [
    {
     "data": {
      "text/plain": [
       "MultinomialNB(alpha=0.1)"
      ]
     },
     "execution_count": 19,
     "metadata": {},
     "output_type": "execute_result"
    }
   ],
   "source": [
    "alpha =  np.linspace(0.1, 10, 100)\n",
    "param_bayes = [{'alpha': alpha}]\n",
    "\n",
    "grid_bayes = GridSearchCV(MultinomialNB(), param_bayes, scoring='f1', cv=5)\n",
    "grid_bayes.fit(X_train_vect, y_train)\n",
    "best_alpha = grid_bayes.best_params_['alpha']\n",
    "\n",
    "grid_bayes.best_estimator_"
   ]
  },
  {
   "cell_type": "code",
   "execution_count": 20,
   "metadata": {},
   "outputs": [
    {
     "name": "stdout",
     "output_type": "stream",
     "text": [
      "accuracy: 0.7888655462184874\n",
      "f1: 0.7365661861074705\n"
     ]
    }
   ],
   "source": [
    "model_bayes_final = MultinomialNB(alpha=best_alpha)\n",
    "model_bayes_final.fit(X_train_vect, y_train)\n",
    "predictions_bayes_final = model_bayes_final.predict(X_test_vect)\n",
    "\n",
    "print(f'accuracy: {accuracy_score(y_test, predictions_bayes_final)}')\n",
    "print(f'f1: {f1_score(y_test, predictions_bayes_final)}')"
   ]
  },
  {
   "cell_type": "markdown",
   "metadata": {},
   "source": [
    "### Logistic Regression"
   ]
  },
  {
   "cell_type": "code",
   "execution_count": 21,
   "metadata": {},
   "outputs": [
    {
     "name": "stdout",
     "output_type": "stream",
     "text": [
      "accuracy: 0.7862394957983193\n",
      "f1: 0.7382636655948553\n"
     ]
    }
   ],
   "source": [
    "model_log = LogisticRegression(max_iter=5000)\n",
    "model_log.fit(X_train_vect, y_train)\n",
    "\n",
    "predictions_log = model_log.predict(X_test_vect)\n",
    "\n",
    "print(f'accuracy: {accuracy_score(y_test, predictions_log)}')\n",
    "print(f'f1: {f1_score(y_test, predictions_log)}')"
   ]
  },
  {
   "cell_type": "code",
   "execution_count": 22,
   "metadata": {},
   "outputs": [
    {
     "data": {
      "text/plain": [
       "LogisticRegression(C=1, max_iter=5000)"
      ]
     },
     "execution_count": 22,
     "metadata": {},
     "output_type": "execute_result"
    }
   ],
   "source": [
    "param_log = {'C': [0.001, 0.01, 0.1, 1, 10, 100, 1000],\n",
    "            'solver': ['newton-cg', 'lbfgs', 'liblinear']}\n",
    "\n",
    "grid_log = GridSearchCV(LogisticRegression(max_iter=5000), param_log, scoring='f1')\n",
    "grid_log.fit(X_train_vect, y_train)\n",
    "best_C_log = grid_log.best_params_['C']\n",
    "grid_log.best_estimator_"
   ]
  },
  {
   "cell_type": "code",
   "execution_count": 23,
   "metadata": {},
   "outputs": [
    {
     "name": "stdout",
     "output_type": "stream",
     "text": [
      "accuracy: 0.7862394957983193\n",
      "f1: 0.7382636655948553\n"
     ]
    }
   ],
   "source": [
    "model_log_final = LogisticRegression(C=best_C_log, max_iter=4500)\n",
    "model_log_final.fit(X_train_vect, y_train)\n",
    "predictions_log_final = model_log_final.predict(X_test_vect)\n",
    "\n",
    "print(f'accuracy: {accuracy_score(y_test, predictions_log_final)}')\n",
    "print(f'f1: {f1_score(y_test, predictions_log_final)}')"
   ]
  },
  {
   "cell_type": "markdown",
   "metadata": {},
   "source": [
    "### Support Vector Classifier "
   ]
  },
  {
   "cell_type": "code",
   "execution_count": 24,
   "metadata": {},
   "outputs": [
    {
     "name": "stdout",
     "output_type": "stream",
     "text": [
      "accuracy: 0.5640756302521008\n",
      "f1: 0.0\n"
     ]
    }
   ],
   "source": [
    "model_svm = SVC()\n",
    "model_svm.fit(X_train_vect, y_train)\n",
    "\n",
    "predictions_svm = model_svm.predict(X_test_vect)\n",
    "\n",
    "print(f'accuracy: {accuracy_score(y_test, predictions_svm)}')\n",
    "print(f'f1: {f1_score(y_test, predictions_svm)}')"
   ]
  },
  {
   "cell_type": "code",
   "execution_count": 25,
   "metadata": {
    "scrolled": true
   },
   "outputs": [
    {
     "name": "stdout",
     "output_type": "stream",
     "text": [
      "Fitting 5 folds for each of 32 candidates, totalling 160 fits\n"
     ]
    },
    {
     "name": "stderr",
     "output_type": "stream",
     "text": [
      "[Parallel(n_jobs=1)]: Using backend SequentialBackend with 1 concurrent workers.\n",
      "[Parallel(n_jobs=1)]: Done 160 out of 160 | elapsed:  4.7min finished\n"
     ]
    },
    {
     "data": {
      "text/plain": [
       "GridSearchCV(estimator=SVC(),\n",
       "             param_grid={'C': [0.1, 1, 10, 100], 'gamma': [1, 0.1, 0.01, 0.001],\n",
       "                         'kernel': ['rbf', 'sigmoid']},\n",
       "             scoring='f1', verbose=1)"
      ]
     },
     "execution_count": 25,
     "metadata": {},
     "output_type": "execute_result"
    }
   ],
   "source": [
    "param_svm = {'C': [0.1, 1, 10, 100], \n",
    "              'gamma': [1, 0.1, 0.01, 0.001],\n",
    "              'kernel': ['rbf', 'sigmoid']}\n",
    "\n",
    "grid_svm = GridSearchCV(SVC(), param_svm, scoring='f1', verbose=1)\n",
    "grid_svm.fit(X_train_vect, y_train)"
   ]
  },
  {
   "cell_type": "code",
   "execution_count": 26,
   "metadata": {},
   "outputs": [
    {
     "name": "stdout",
     "output_type": "stream",
     "text": [
      "accuracy: 0.7415966386554622\n",
      "f1: 0.6890012642225031\n"
     ]
    }
   ],
   "source": [
    "model_svm_final = grid_svm.best_estimator_\n",
    "model_svm_final.fit(X_train_vect, y_train)\n",
    "\n",
    "predictions_svm_final = model_svm_final.predict(X_test_vect)\n",
    "\n",
    "print(f'accuracy: {accuracy_score(y_test, predictions_svm_final)}')\n",
    "print(f'f1: {f1_score(y_test, predictions_svm_final)}')"
   ]
  },
  {
   "cell_type": "markdown",
   "metadata": {},
   "source": [
    "## Final Predictions"
   ]
  },
  {
   "cell_type": "code",
   "execution_count": 27,
   "metadata": {},
   "outputs": [],
   "source": [
    "vect_final = TfidfVectorizer(max_df=0.90, min_df=10, ngram_range=(1,3))\n",
    "vect_final.fit(test['text_clean'])\n",
    "\n",
    "X_train_vect_final = vect_final.transform(train['text_clean']) \n",
    "X_test_vect_final = vect_final.transform(test['text_clean'])\n",
    "\n",
    "for feature in features_vect:\n",
    "    X_train_vect_final = add_feature(X_train_vect_final, train[feature])\n",
    "    X_test_vect_final = add_feature(X_test_vect_final, test[feature])"
   ]
  },
  {
   "cell_type": "code",
   "execution_count": 28,
   "metadata": {},
   "outputs": [],
   "source": [
    "model_final = model_log_final\n",
    "model_final.fit(X_train_vect_final, train['target'])\n",
    "predictions_final = model_final.predict(X_test_vect_final)\n",
    "test['target'] = predictions_final"
   ]
  },
  {
   "cell_type": "markdown",
   "metadata": {},
   "source": [
    "## Exporting Results"
   ]
  },
  {
   "cell_type": "code",
   "execution_count": 29,
   "metadata": {},
   "outputs": [
    {
     "name": "stdout",
     "output_type": "stream",
     "text": [
      "Your submission was successfully saved!\n"
     ]
    }
   ],
   "source": [
    "output = pd.DataFrame({'id': test['id'], 'target': test['target']})\n",
    "output.to_csv('disaster_tweets_submission.csv', index=False)\n",
    "print('Your submission was successfully saved!')"
   ]
  },
  {
   "cell_type": "code",
   "execution_count": null,
   "metadata": {},
   "outputs": [],
   "source": []
  }
 ],
 "metadata": {
  "kernelspec": {
   "display_name": "olympus",
   "language": "python",
   "name": "olympus"
  },
  "language_info": {
   "codemirror_mode": {
    "name": "ipython",
    "version": 3
   },
   "file_extension": ".py",
   "mimetype": "text/x-python",
   "name": "python",
   "nbconvert_exporter": "python",
   "pygments_lexer": "ipython3",
   "version": "3.7.6"
  }
 },
 "nbformat": 4,
 "nbformat_minor": 4
}
